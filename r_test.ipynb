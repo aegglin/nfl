{
 "cells": [
  {
   "cell_type": "code",
   "execution_count": 1,
   "metadata": {},
   "outputs": [
    {
     "name": "stderr",
     "output_type": "stream",
     "text": [
      "Unable to determine R home: [WinError 2] The system cannot find the file specified\n"
     ]
    }
   ],
   "source": [
    "import rpy2\n",
    "import rpy2.robjects as robjects"
   ]
  },
  {
   "cell_type": "code",
   "execution_count": 2,
   "metadata": {},
   "outputs": [],
   "source": [
    "pi = robjects.r['pi']"
   ]
  },
  {
   "cell_type": "code",
   "execution_count": 3,
   "metadata": {},
   "outputs": [
    {
     "data": {
      "text/html": [
       "\n",
       "        <span>FloatVector with 1 elements.</span>\n",
       "        <table>\n",
       "        <tbody>\n",
       "          <tr>\n",
       "          \n",
       "            <td>\n",
       "            3.141593\n",
       "            </td>\n",
       "          \n",
       "          </tr>\n",
       "        </tbody>\n",
       "        </table>\n",
       "        "
      ],
      "text/plain": [
       "<rpy2.robjects.vectors.FloatVector object at 0x000001D5F97B2780> [RTYPES.REALSXP]\n",
       "R classes: ('numeric',)\n",
       "[3.141593]"
      ]
     },
     "execution_count": 3,
     "metadata": {},
     "output_type": "execute_result"
    }
   ],
   "source": [
    "pi"
   ]
  },
  {
   "cell_type": "code",
   "execution_count": 5,
   "metadata": {},
   "outputs": [
    {
     "name": "stdout",
     "output_type": "stream",
     "text": [
      "[1] 15\n",
      "[1] 30\n"
     ]
    },
    {
     "data": {
      "text/html": [
       "\n",
       "        <span>FloatVector with 1 elements.</span>\n",
       "        <table>\n",
       "        <tbody>\n",
       "          <tr>\n",
       "          \n",
       "            <td>\n",
       "            30.000000\n",
       "            </td>\n",
       "          \n",
       "          </tr>\n",
       "        </tbody>\n",
       "        </table>\n",
       "        "
      ],
      "text/plain": [
       "<rpy2.robjects.vectors.FloatVector object at 0x000001BD709727C0> [RTYPES.REALSXP]\n",
       "R classes: ('numeric',)\n",
       "[30.000000]"
      ]
     },
     "execution_count": 5,
     "metadata": {},
     "output_type": "execute_result"
    }
   ],
   "source": [
    "robjects.r('''\n",
    "    add_nums <- function(x, y) {\n",
    "        return (x+y)\n",
    "    }\n",
    "\n",
    "    print(add_nums(x=5, y=10))\n",
    "    print(add_nums(x=10, y=20))\n",
    "''')"
   ]
  },
  {
   "cell_type": "code",
   "execution_count": 6,
   "metadata": {},
   "outputs": [],
   "source": [
    "import rpy2.robjects.packages as rpackages\n",
    "utils = rpackages.importr('utils')"
   ]
  },
  {
   "cell_type": "code",
   "execution_count": 4,
   "metadata": {},
   "outputs": [
    {
     "ename": "NameError",
     "evalue": "name 'utils' is not defined",
     "output_type": "error",
     "traceback": [
      "\u001b[1;31m---------------------------------------------------------------------------\u001b[0m",
      "\u001b[1;31mNameError\u001b[0m                                 Traceback (most recent call last)",
      "\u001b[1;32mc:\\Users\\aiden\\Documents\\Python\\nfl\\r_test.ipynb Cell 6\u001b[0m in \u001b[0;36m<cell line: 1>\u001b[1;34m()\u001b[0m\n\u001b[1;32m----> <a href='vscode-notebook-cell:/c%3A/Users/aiden/Documents/Python/nfl/r_test.ipynb#W5sZmlsZQ%3D%3D?line=0'>1</a>\u001b[0m utils\u001b[39m.\u001b[39mchooseCRANmirror(ind\u001b[39m=\u001b[39m\u001b[39m1\u001b[39m)\n\u001b[0;32m      <a href='vscode-notebook-cell:/c%3A/Users/aiden/Documents/Python/nfl/r_test.ipynb#W5sZmlsZQ%3D%3D?line=1'>2</a>\u001b[0m utils\u001b[39m.\u001b[39minstall_packages(\u001b[39m'\u001b[39m\u001b[39mnflfastR\u001b[39m\u001b[39m'\u001b[39m)\n",
      "\u001b[1;31mNameError\u001b[0m: name 'utils' is not defined"
     ]
    }
   ],
   "source": [
    "utils.chooseCRANmirror(ind=1)\n",
    "utils.install_packages('nflfastR')"
   ]
  },
  {
   "cell_type": "code",
   "execution_count": 5,
   "metadata": {},
   "outputs": [
    {
     "name": "stdout",
     "output_type": "stream",
     "text": [
      "Note: nflreadr caches (i.e., stores a saved version) data by default.\n",
      "If you expect different output try one of the following:\n",
      "i Restart your R Session or\n",
      "i Run `nflreadr::.clear_cache()`.\n",
      "To disable this warning, run `options(nflreadr.verbose = FALSE)` or add it to your .Rprofile\n",
      "This message is displayed once every 8 hours.\n"
     ]
    },
    {
     "data": {
      "text/plain": [
       "<rpy2.rinterface_lib.sexp.NULLType object at 0x000001D5F982D2C0> [RTYPES.NILSXP]"
      ]
     },
     "execution_count": 5,
     "metadata": {},
     "output_type": "execute_result"
    }
   ],
   "source": [
    "robjects.r('''\n",
    "    library(nflfastR)\n",
    "    data <- load_pbp(2022)\n",
    "    write.csv(data, \"data.csv\")\n",
    "''')"
   ]
  },
  {
   "cell_type": "code",
   "execution_count": 3,
   "metadata": {},
   "outputs": [],
   "source": [
    "import pandas as pd"
   ]
  },
  {
   "cell_type": "code",
   "execution_count": 4,
   "metadata": {},
   "outputs": [
    {
     "name": "stderr",
     "output_type": "stream",
     "text": [
      "C:\\Users\\aiden\\AppData\\Local\\Temp\\ipykernel_23708\\3721933721.py:1: DtypeWarning: Columns (180,181,183,184,190,191,194,195,198,199,204,205,206,207,219,220,221,244,245,246,254,255,256,261,263,264,284,285,302,333) have mixed types. Specify dtype option on import or set low_memory=False.\n",
      "  data = pd.read_csv('data.csv', index_col = 0, encoding_errors='ignore')\n"
     ]
    }
   ],
   "source": [
    "data = pd.read_csv('data.csv', index_col = 0, encoding_errors='ignore')"
   ]
  },
  {
   "cell_type": "code",
   "execution_count": 9,
   "metadata": {},
   "outputs": [
    {
     "data": {
      "text/plain": [
       "0.0    18234\n",
       "1.0    14598\n",
       "NaN     1475\n",
       "Name: qb_dropback, dtype: int64"
      ]
     },
     "execution_count": 9,
     "metadata": {},
     "output_type": "execute_result"
    }
   ],
   "source": [
    "data['qb_dropback'].value_counts(dropna=False)"
   ]
  },
  {
   "cell_type": "code",
   "execution_count": 11,
   "metadata": {},
   "outputs": [
    {
     "data": {
      "text/plain": [
       "False"
      ]
     },
     "execution_count": 11,
     "metadata": {},
     "output_type": "execute_result"
    }
   ],
   "source": [
    "data['qb_kneel'].hasnans"
   ]
  },
  {
   "cell_type": "code",
   "execution_count": 12,
   "metadata": {},
   "outputs": [
    {
     "data": {
      "text/plain": [
       "False"
      ]
     },
     "execution_count": 12,
     "metadata": {},
     "output_type": "execute_result"
    }
   ],
   "source": [
    "data['qb_spike'].hasnans"
   ]
  },
  {
   "cell_type": "code",
   "execution_count": 13,
   "metadata": {},
   "outputs": [
    {
     "data": {
      "text/plain": [
       "False"
      ]
     },
     "execution_count": 13,
     "metadata": {},
     "output_type": "execute_result"
    }
   ],
   "source": [
    "data['qb_scramble'].hasnans"
   ]
  },
  {
   "cell_type": "code",
   "execution_count": 15,
   "metadata": {},
   "outputs": [
    {
     "data": {
      "text/plain": [
       "True     21354\n",
       "False    12953\n",
       "Name: pass_length, dtype: int64"
      ]
     },
     "execution_count": 15,
     "metadata": {},
     "output_type": "execute_result"
    }
   ],
   "source": [
    "data['pass_length'].isna().value_counts()"
   ]
  },
  {
   "cell_type": "code",
   "execution_count": 17,
   "metadata": {},
   "outputs": [
    {
     "data": {
      "text/plain": [
       "True     21354\n",
       "False    12953\n",
       "Name: pass_location, dtype: int64"
      ]
     },
     "execution_count": 17,
     "metadata": {},
     "output_type": "execute_result"
    }
   ],
   "source": [
    "data['pass_location'].isna().value_counts()"
   ]
  },
  {
   "cell_type": "code",
   "execution_count": 19,
   "metadata": {},
   "outputs": [
    {
     "data": {
      "text/plain": [
       "True     21316\n",
       "False    12991\n",
       "Name: air_yards, dtype: int64"
      ]
     },
     "execution_count": 19,
     "metadata": {},
     "output_type": "execute_result"
    }
   ],
   "source": [
    "data['air_yards'].isna().value_counts()"
   ]
  },
  {
   "cell_type": "code",
   "execution_count": 12,
   "metadata": {},
   "outputs": [
    {
     "data": {
      "text/html": [
       "<div>\n",
       "<style scoped>\n",
       "    .dataframe tbody tr th:only-of-type {\n",
       "        vertical-align: middle;\n",
       "    }\n",
       "\n",
       "    .dataframe tbody tr th {\n",
       "        vertical-align: top;\n",
       "    }\n",
       "\n",
       "    .dataframe thead th {\n",
       "        text-align: right;\n",
       "    }\n",
       "</style>\n",
       "<table border=\"1\" class=\"dataframe\">\n",
       "  <thead>\n",
       "    <tr style=\"text-align: right;\">\n",
       "      <th></th>\n",
       "      <th>play_id</th>\n",
       "      <th>game_id</th>\n",
       "      <th>old_game_id</th>\n",
       "      <th>home_team</th>\n",
       "      <th>away_team</th>\n",
       "      <th>season_type</th>\n",
       "      <th>week</th>\n",
       "      <th>posteam</th>\n",
       "      <th>posteam_type</th>\n",
       "      <th>defteam</th>\n",
       "      <th>...</th>\n",
       "      <th>out_of_bounds</th>\n",
       "      <th>home_opening_kickoff</th>\n",
       "      <th>qb_epa</th>\n",
       "      <th>xyac_epa</th>\n",
       "      <th>xyac_mean_yardage</th>\n",
       "      <th>xyac_median_yardage</th>\n",
       "      <th>xyac_success</th>\n",
       "      <th>xyac_fd</th>\n",
       "      <th>xpass</th>\n",
       "      <th>pass_oe</th>\n",
       "    </tr>\n",
       "  </thead>\n",
       "  <tbody>\n",
       "    <tr>\n",
       "      <th>3</th>\n",
       "      <td>68</td>\n",
       "      <td>2022_01_BAL_NYJ</td>\n",
       "      <td>2022091107</td>\n",
       "      <td>NYJ</td>\n",
       "      <td>BAL</td>\n",
       "      <td>REG</td>\n",
       "      <td>1</td>\n",
       "      <td>NYJ</td>\n",
       "      <td>home</td>\n",
       "      <td>BAL</td>\n",
       "      <td>...</td>\n",
       "      <td>0</td>\n",
       "      <td>1</td>\n",
       "      <td>1.468819</td>\n",
       "      <td>NaN</td>\n",
       "      <td>NaN</td>\n",
       "      <td>NaN</td>\n",
       "      <td>NaN</td>\n",
       "      <td>NaN</td>\n",
       "      <td>0.440373</td>\n",
       "      <td>-44.037291</td>\n",
       "    </tr>\n",
       "    <tr>\n",
       "      <th>4</th>\n",
       "      <td>89</td>\n",
       "      <td>2022_01_BAL_NYJ</td>\n",
       "      <td>2022091107</td>\n",
       "      <td>NYJ</td>\n",
       "      <td>BAL</td>\n",
       "      <td>REG</td>\n",
       "      <td>1</td>\n",
       "      <td>NYJ</td>\n",
       "      <td>home</td>\n",
       "      <td>BAL</td>\n",
       "      <td>...</td>\n",
       "      <td>0</td>\n",
       "      <td>1</td>\n",
       "      <td>-0.492192</td>\n",
       "      <td>0.727261</td>\n",
       "      <td>6.988125</td>\n",
       "      <td>6.0</td>\n",
       "      <td>0.606930</td>\n",
       "      <td>0.227598</td>\n",
       "      <td>0.389904</td>\n",
       "      <td>61.009598</td>\n",
       "    </tr>\n",
       "    <tr>\n",
       "      <th>5</th>\n",
       "      <td>115</td>\n",
       "      <td>2022_01_BAL_NYJ</td>\n",
       "      <td>2022091107</td>\n",
       "      <td>NYJ</td>\n",
       "      <td>BAL</td>\n",
       "      <td>REG</td>\n",
       "      <td>1</td>\n",
       "      <td>NYJ</td>\n",
       "      <td>home</td>\n",
       "      <td>BAL</td>\n",
       "      <td>...</td>\n",
       "      <td>0</td>\n",
       "      <td>1</td>\n",
       "      <td>-0.325931</td>\n",
       "      <td>NaN</td>\n",
       "      <td>NaN</td>\n",
       "      <td>NaN</td>\n",
       "      <td>NaN</td>\n",
       "      <td>NaN</td>\n",
       "      <td>0.443575</td>\n",
       "      <td>-44.357494</td>\n",
       "    </tr>\n",
       "    <tr>\n",
       "      <th>6</th>\n",
       "      <td>136</td>\n",
       "      <td>2022_01_BAL_NYJ</td>\n",
       "      <td>2022091107</td>\n",
       "      <td>NYJ</td>\n",
       "      <td>BAL</td>\n",
       "      <td>REG</td>\n",
       "      <td>1</td>\n",
       "      <td>NYJ</td>\n",
       "      <td>home</td>\n",
       "      <td>BAL</td>\n",
       "      <td>...</td>\n",
       "      <td>0</td>\n",
       "      <td>1</td>\n",
       "      <td>-2.402200</td>\n",
       "      <td>NaN</td>\n",
       "      <td>NaN</td>\n",
       "      <td>NaN</td>\n",
       "      <td>NaN</td>\n",
       "      <td>NaN</td>\n",
       "      <td>0.963242</td>\n",
       "      <td>3.675753</td>\n",
       "    </tr>\n",
       "    <tr>\n",
       "      <th>8</th>\n",
       "      <td>202</td>\n",
       "      <td>2022_01_BAL_NYJ</td>\n",
       "      <td>2022091107</td>\n",
       "      <td>NYJ</td>\n",
       "      <td>BAL</td>\n",
       "      <td>REG</td>\n",
       "      <td>1</td>\n",
       "      <td>BAL</td>\n",
       "      <td>away</td>\n",
       "      <td>NYJ</td>\n",
       "      <td>...</td>\n",
       "      <td>1</td>\n",
       "      <td>1</td>\n",
       "      <td>0.075127</td>\n",
       "      <td>1.480030</td>\n",
       "      <td>10.545964</td>\n",
       "      <td>9.0</td>\n",
       "      <td>0.606959</td>\n",
       "      <td>0.241949</td>\n",
       "      <td>0.479318</td>\n",
       "      <td>52.068213</td>\n",
       "    </tr>\n",
       "  </tbody>\n",
       "</table>\n",
       "<p>5 rows × 372 columns</p>\n",
       "</div>"
      ],
      "text/plain": [
       "   play_id          game_id  old_game_id home_team away_team season_type  \\\n",
       "3       68  2022_01_BAL_NYJ   2022091107       NYJ       BAL         REG   \n",
       "4       89  2022_01_BAL_NYJ   2022091107       NYJ       BAL         REG   \n",
       "5      115  2022_01_BAL_NYJ   2022091107       NYJ       BAL         REG   \n",
       "6      136  2022_01_BAL_NYJ   2022091107       NYJ       BAL         REG   \n",
       "8      202  2022_01_BAL_NYJ   2022091107       NYJ       BAL         REG   \n",
       "\n",
       "   week posteam posteam_type defteam  ... out_of_bounds  home_opening_kickoff  \\\n",
       "3     1     NYJ         home     BAL  ...             0                     1   \n",
       "4     1     NYJ         home     BAL  ...             0                     1   \n",
       "5     1     NYJ         home     BAL  ...             0                     1   \n",
       "6     1     NYJ         home     BAL  ...             0                     1   \n",
       "8     1     BAL         away     NYJ  ...             1                     1   \n",
       "\n",
       "     qb_epa  xyac_epa  xyac_mean_yardage  xyac_median_yardage xyac_success  \\\n",
       "3  1.468819       NaN                NaN                  NaN          NaN   \n",
       "4 -0.492192  0.727261           6.988125                  6.0     0.606930   \n",
       "5 -0.325931       NaN                NaN                  NaN          NaN   \n",
       "6 -2.402200       NaN                NaN                  NaN          NaN   \n",
       "8  0.075127  1.480030          10.545964                  9.0     0.606959   \n",
       "\n",
       "    xyac_fd     xpass    pass_oe  \n",
       "3       NaN  0.440373 -44.037291  \n",
       "4  0.227598  0.389904  61.009598  \n",
       "5       NaN  0.443575 -44.357494  \n",
       "6       NaN  0.963242   3.675753  \n",
       "8  0.241949  0.479318  52.068213  \n",
       "\n",
       "[5 rows x 372 columns]"
      ]
     },
     "execution_count": 12,
     "metadata": {},
     "output_type": "execute_result"
    }
   ],
   "source": [
    "offense = data[(data['rush'] == 1) | (data['pass'] == 1)].copy()\n",
    "offense.head()"
   ]
  },
  {
   "cell_type": "code",
   "execution_count": null,
   "metadata": {},
   "outputs": [],
   "source": [
    "fantasy_cols = ['home_team', 'away_team', 'posteam', 'defteam', 'week', 'qtr', 'season_type', 'yards_after_catch', 'kick_distance', 'extra_point_result', 'two_point_conv_result', 'interception', 'fumble_forced', 'fumble_lost', 'sack', 'touchdown', 'receiver_player_name', 'rusher_player_name', 'rushing_yards', 'receiving_yards']"
   ]
  },
  {
   "cell_type": "code",
   "execution_count": 13,
   "metadata": {},
   "outputs": [],
   "source": [
    "wr_cols = ['desc', 'posteam', 'defteam', 'week', 'yards_after_catch', 'touchdown', 'receiver_player_name', 'rusher_player_name', 'rushing_yards', 'receiving_yards']\n",
    "wr_stats = offense[wr_cols].copy()"
   ]
  },
  {
   "cell_type": "code",
   "execution_count": 14,
   "metadata": {},
   "outputs": [
    {
     "data": {
      "text/html": [
       "<div>\n",
       "<style scoped>\n",
       "    .dataframe tbody tr th:only-of-type {\n",
       "        vertical-align: middle;\n",
       "    }\n",
       "\n",
       "    .dataframe tbody tr th {\n",
       "        vertical-align: top;\n",
       "    }\n",
       "\n",
       "    .dataframe thead th {\n",
       "        text-align: right;\n",
       "    }\n",
       "</style>\n",
       "<table border=\"1\" class=\"dataframe\">\n",
       "  <thead>\n",
       "    <tr style=\"text-align: right;\">\n",
       "      <th></th>\n",
       "      <th>desc</th>\n",
       "      <th>posteam</th>\n",
       "      <th>defteam</th>\n",
       "      <th>week</th>\n",
       "      <th>yards_after_catch</th>\n",
       "      <th>touchdown</th>\n",
       "      <th>receiver_player_name</th>\n",
       "      <th>rusher_player_name</th>\n",
       "      <th>rushing_yards</th>\n",
       "      <th>receiving_yards</th>\n",
       "    </tr>\n",
       "  </thead>\n",
       "  <tbody>\n",
       "    <tr>\n",
       "      <th>3</th>\n",
       "      <td>(14:56) 32-Mi.Carter left end to NYJ 41 for 19...</td>\n",
       "      <td>NYJ</td>\n",
       "      <td>BAL</td>\n",
       "      <td>1</td>\n",
       "      <td>NaN</td>\n",
       "      <td>0.0</td>\n",
       "      <td>NaN</td>\n",
       "      <td>Mi.Carter</td>\n",
       "      <td>19.0</td>\n",
       "      <td>NaN</td>\n",
       "    </tr>\n",
       "    <tr>\n",
       "      <th>4</th>\n",
       "      <td>(14:29) (No Huddle, Shotgun) 19-J.Flacco pass ...</td>\n",
       "      <td>NYJ</td>\n",
       "      <td>BAL</td>\n",
       "      <td>1</td>\n",
       "      <td>NaN</td>\n",
       "      <td>0.0</td>\n",
       "      <td>Mi.Carter</td>\n",
       "      <td>NaN</td>\n",
       "      <td>NaN</td>\n",
       "      <td>NaN</td>\n",
       "    </tr>\n",
       "    <tr>\n",
       "      <th>5</th>\n",
       "      <td>(14:25) (No Huddle, Shotgun) 32-Mi.Carter left...</td>\n",
       "      <td>NYJ</td>\n",
       "      <td>BAL</td>\n",
       "      <td>1</td>\n",
       "      <td>NaN</td>\n",
       "      <td>0.0</td>\n",
       "      <td>NaN</td>\n",
       "      <td>Mi.Carter</td>\n",
       "      <td>5.0</td>\n",
       "      <td>NaN</td>\n",
       "    </tr>\n",
       "    <tr>\n",
       "      <th>6</th>\n",
       "      <td>(14:01) (No Huddle, Shotgun) 19-J.Flacco pass ...</td>\n",
       "      <td>NYJ</td>\n",
       "      <td>BAL</td>\n",
       "      <td>1</td>\n",
       "      <td>NaN</td>\n",
       "      <td>0.0</td>\n",
       "      <td>NaN</td>\n",
       "      <td>NaN</td>\n",
       "      <td>NaN</td>\n",
       "      <td>NaN</td>\n",
       "    </tr>\n",
       "    <tr>\n",
       "      <th>8</th>\n",
       "      <td>(13:42) 8-L.Jackson pass short right to 7-R.Ba...</td>\n",
       "      <td>BAL</td>\n",
       "      <td>NYJ</td>\n",
       "      <td>1</td>\n",
       "      <td>8.0</td>\n",
       "      <td>0.0</td>\n",
       "      <td>R.Bateman</td>\n",
       "      <td>NaN</td>\n",
       "      <td>NaN</td>\n",
       "      <td>4.0</td>\n",
       "    </tr>\n",
       "  </tbody>\n",
       "</table>\n",
       "</div>"
      ],
      "text/plain": [
       "                                                desc posteam defteam  week  \\\n",
       "3  (14:56) 32-Mi.Carter left end to NYJ 41 for 19...     NYJ     BAL     1   \n",
       "4  (14:29) (No Huddle, Shotgun) 19-J.Flacco pass ...     NYJ     BAL     1   \n",
       "5  (14:25) (No Huddle, Shotgun) 32-Mi.Carter left...     NYJ     BAL     1   \n",
       "6  (14:01) (No Huddle, Shotgun) 19-J.Flacco pass ...     NYJ     BAL     1   \n",
       "8  (13:42) 8-L.Jackson pass short right to 7-R.Ba...     BAL     NYJ     1   \n",
       "\n",
       "   yards_after_catch  touchdown receiver_player_name rusher_player_name  \\\n",
       "3                NaN        0.0                  NaN          Mi.Carter   \n",
       "4                NaN        0.0            Mi.Carter                NaN   \n",
       "5                NaN        0.0                  NaN          Mi.Carter   \n",
       "6                NaN        0.0                  NaN                NaN   \n",
       "8                8.0        0.0            R.Bateman                NaN   \n",
       "\n",
       "   rushing_yards  receiving_yards  \n",
       "3           19.0              NaN  \n",
       "4            NaN              NaN  \n",
       "5            5.0              NaN  \n",
       "6            NaN              NaN  \n",
       "8            NaN              4.0  "
      ]
     },
     "execution_count": 14,
     "metadata": {},
     "output_type": "execute_result"
    }
   ],
   "source": [
    "wr_stats.head()"
   ]
  },
  {
   "cell_type": "code",
   "execution_count": null,
   "metadata": {},
   "outputs": [],
   "source": []
  }
 ],
 "metadata": {
  "kernelspec": {
   "display_name": "Python 3.10.3 ('venv': venv)",
   "language": "python",
   "name": "python3"
  },
  "language_info": {
   "codemirror_mode": {
    "name": "ipython",
    "version": 3
   },
   "file_extension": ".py",
   "mimetype": "text/x-python",
   "name": "python",
   "nbconvert_exporter": "python",
   "pygments_lexer": "ipython3",
   "version": "3.10.3"
  },
  "orig_nbformat": 4,
  "vscode": {
   "interpreter": {
    "hash": "9ce8bfa516252ec926680b0af739a0fb8e03ca511d512583c743066985b4bc96"
   }
  }
 },
 "nbformat": 4,
 "nbformat_minor": 2
}
